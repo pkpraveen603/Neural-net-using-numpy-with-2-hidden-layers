{
 "cells": [
  {
   "cell_type": "code",
   "execution_count": 7,
   "metadata": {
    "collapsed": true
   },
   "outputs": [],
   "source": [
    "import numpy as np"
   ]
  },
  {
   "cell_type": "code",
   "execution_count": 8,
   "metadata": {
    "collapsed": true
   },
   "outputs": [],
   "source": [
    "#function that returns derivative when delta needs to be found , sigmoid activation function otherwise\n",
    "\n",
    "def nonlin(x,deriv=False):\n",
    "    if deriv == True: \n",
    "        return x * (1 - x)\n",
    "    return 1 / (1 + np.exp(-x))    "
   ]
  },
  {
   "cell_type": "code",
   "execution_count": 9,
   "metadata": {
    "collapsed": true
   },
   "outputs": [],
   "source": [
    "X = np.genfromtxt('filename_inputs.csv', skip_headers = 1)\n",
    "# assuming no. of features = n , no. of datapoints = m                \n",
    "y = np.genfromtxt('finename_outputs.csv', skip_headers = 1)\n",
    "\n",
    "np.random.seed(1)\n",
    "\n",
    "# Randomly initialize our weights with mean 0\n",
    "W1 = 2*np.random.random((n, 3)) - 1  #  weights between layer 0 and layer 1 , shape = n*5 \n",
    "#hidden layer 1 nodes = 3\n",
    "W2 = 2*np.random.random((3, 5)) - 1  #  weights between layer 1 and layer 2\n",
    "#hidden layer 2 nodes = 5\n",
    "W3 = 2*np.random.random((5, 1)) - 1  #  weights between layer 2 and layer 3\n",
    "#optput layer nodes = 1"
   ]
  },
  {
   "cell_type": "code",
   "execution_count": 10,
   "metadata": {
    "collapsed": true
   },
   "outputs": [
    {
     "name": "stdout",
     "output_type": "stream",
     "text": [
      "Error: 0.0328\n",
      "Error: 0.0328\n",
      "Error: 0.0328\n",
      "Error: 0.0328\n",
      "Error: 0.0328\n",
      "Error: 0.0328\n",
      "Error: 0.0328\n",
      "Error: 0.0328\n",
      "Error: 0.0328\n",
      "Error: 0.0328\n"
     ]
    }
   ],
   "source": [
    "#training steps = 100\n",
    "learning_rate = 0.01\n",
    "for j in range(100):\n",
    "    \n",
    "    \n",
    "    # forward_propogation\n",
    "    # Feed forward through layers 0, 1, 2, 3\n",
    "    layer0 = X                           # input layer\n",
    "    layer1 = nonlin(np.dot(layer0, W1))  # first hidden layer\n",
    "    layer2 = nonlin(np.dot(layer1, W2))  # second hidden layer\n",
    "    layer3 = nonlin(np.dot(layer2, W3))  # output layer\n",
    "    \n",
    "    \n",
    "    #back_propogation\n",
    "    # Error: How much did we miss the target value?\n",
    "    # Delta: In what direction is the target value? Were we really sure? If so, don't change too much.\n",
    "    \n",
    "    layer3_error = y - layer3\n",
    "    layer3_delta = layer3_error * nonlin(layer3, deriv=True) # \"deriv=True\" coz we're interested in the gradient\n",
    "\n",
    "    layer2_error = np.dot(layer3_delta, W3.T)  # l3_delta.dot(syn_23.T)\n",
    "    layer2_delta = layer2_error * nonlin(layer2, deriv=True)\n",
    "\n",
    "    layer1_error = np.dot(layer2_delta, W2.T)\n",
    "    layer1_delta = layer1_error * nonlin(layer1, deriv=True)\n",
    "    \n",
    "    # Update weights\n",
    "    # Gradient_descent\n",
    "    \n",
    "    W3 += learning_rate*layer2.T.dot(layer3_delta)\n",
    "    W2 += learning_rate*layer1.T.dot(layer2_delta)\n",
    "    W1 += learning_rate*layer0.T.dot(layer1_delta)\n",
    "    \n",
    "    if (j% 10) == 0:\n",
    "        print(\"Error: {0:.4f}\".format((np.mean(np.abs(layer3_error)))))\n",
    "# End of for loop."
   ]
  },
  {
   "cell_type": "code",
   "execution_count": 11,
   "metadata": {
    "collapsed": true
   },
   "outputs": [
    {
     "name": "stdout",
     "output_type": "stream",
     "text": [
      "\n",
      "\n",
      "W1 (shape:(3, 5)): \n",
      "[[ 0.1349  0.3814  0.7938 -1.6349  0.5433]\n",
      " [-0.4631 -0.6279  0.9332 -1.229   1.0354]\n",
      " [ 0.1775  0.2656  0.3639  0.8501 -0.2893]]\n",
      "\n",
      "W2 (shape:(5, 7)): \n",
      "[[ 0.3532 -0.3997  0.1651 -0.8816 -0.5967  0.5916  1.0111]\n",
      " [-0.3719  0.1904  0.7797  0.6421 -0.8199 -0.9324 -0.5957]\n",
      " [ 2.5016 -2.4496  0.8267  1.8804 -0.5309  1.904  -0.9236]\n",
      " [-2.0596  2.2014 -2.2717 -1.4309  1.7921 -1.5799  0.5289]\n",
      " [ 0.7062 -0.9787 -0.0205  0.8386 -0.4563 -0.316  -0.7602]]\n",
      "\n",
      "W3 (shape:(7, 1)): \n",
      "[[-5.1353]\n",
      " [ 4.3902]\n",
      " [-3.3595]\n",
      " [-3.4473]\n",
      " [ 1.8182]\n",
      " [-4.1351]\n",
      " [ 1.5077]]\n"
     ]
    }
   ],
   "source": [
    "#=======================#\n",
    "# Print the syn weights #\n",
    "#=======================#\n",
    "np.set_printoptions(precision=4)\n",
    "print('\\n\\nW1 (shape:%s): \\n%s' % (W1.shape, W1))\n",
    "print('\\nW2 (shape:%s): \\n%s' % (W2.shape, W2))\n",
    "print('\\nW3 (shape:%s): \\n%s' % (W3.shape, W3))"
   ]
  },
  {
   "cell_type": "code",
   "execution_count": 12,
   "metadata": {
    "collapsed": true
   },
   "outputs": [
    {
     "name": "stdout",
     "output_type": "stream",
     "text": [
      "\n",
      "\n",
      "Predictions for: [[0, 1, 1], [1, 0, 1]]\n",
      "[[ 0.9675]\n",
      " [ 0.9678]]\n",
      "\n",
      "Predictions for: [[0, 0, 1], [1, 1, 1]]\n",
      "[[ 0.0202]\n",
      " [ 0.0463]]\n"
     ]
    }
   ],
   "source": [
    "\n",
    "# Predict #\n",
    "\n",
    "def pred(data):\n",
    "    for syn in [syn_01, syn_12, syn_23]:\n",
    "        data = nonlin(np.dot(data, syn))\n",
    "    return data\n",
    "\n",
    "X_test = np.genfromtxt('your_test_file.csv', skip_headers = 1)\n",
    "print('\\n\\nPredictions for: %s' % X_test.tolist())\n",
    "print(pred(X_test))\n",
    "\n",
    "X_test = np.array([[0,0,1], [1,1,1]])\n",
    "print('\\nPredictions for: %s' % X_test.tolist())\n",
    "print(pred(X_test))\n"
   ]
  },
  {
   "cell_type": "code",
   "execution_count": null,
   "metadata": {
    "collapsed": true
   },
   "outputs": [],
   "source": []
  },
  {
   "cell_type": "code",
   "execution_count": null,
   "metadata": {
    "collapsed": true
   },
   "outputs": [],
   "source": []
  },
  {
   "cell_type": "code",
   "execution_count": null,
   "metadata": {
    "collapsed": true
   },
   "outputs": [],
   "source": []
  },
  {
   "cell_type": "code",
   "execution_count": null,
   "metadata": {
    "collapsed": true
   },
   "outputs": [],
   "source": []
  },
  {
   "cell_type": "code",
   "execution_count": null,
   "metadata": {
    "collapsed": true
   },
   "outputs": [],
   "source": []
  }
 ],
 "metadata": {
  "kernelspec": {
   "display_name": "Python 3",
   "language": "python",
   "name": "python3"
  },
  "language_info": {
   "codemirror_mode": {
    "name": "ipython",
    "version": 3
   },
   "file_extension": ".py",
   "mimetype": "text/x-python",
   "name": "python",
   "nbconvert_exporter": "python",
   "pygments_lexer": "ipython3",
   "version": "3.6.2"
  }
 },
 "nbformat": 4,
 "nbformat_minor": 2
}
